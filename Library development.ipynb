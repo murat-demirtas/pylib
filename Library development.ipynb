{
 "cells": [
  {
   "cell_type": "code",
   "execution_count": 6,
   "metadata": {},
   "outputs": [
    {
     "name": "stdout",
     "output_type": "stream",
     "text": [
      "The autoreload extension is already loaded. To reload it, use:\n",
      "  %reload_ext autoreload\n"
     ]
    }
   ],
   "source": [
    "%load_ext autoreload\n",
    "%autoreload 2\n",
    "%matplotlib inline"
   ]
  },
  {
   "cell_type": "code",
   "execution_count": 7,
   "metadata": {},
   "outputs": [],
   "source": [
    "from analysis import utils, io, stats, signal, cifti"
   ]
  },
  {
   "cell_type": "code",
   "execution_count": 4,
   "metadata": {},
   "outputs": [],
   "source": [
    "#from visualization import \n",
    "import numpy as np\n",
    "from visualization.scifig import Figure\n",
    "from matplotlib.pyplot import cm\n",
    "\n",
    "def plot_brain(idx, mask, cmap, indices, clabel=None, vrange=None,\n",
    "               border=None, labelpad=-5, hemil=False, title='', prec='{:.2f}', cbar_range=None):\n",
    "    if vrange is None:\n",
    "        if cbar_range is None:\n",
    "            vrange = [mask.min(), mask.max()]\n",
    "        else:\n",
    "            vrange = [-np.abs(mask).max(), np.abs(mask).max()]\n",
    "\n",
    "    brain_mask = np.zeros(360)\n",
    "    brain_mask[indices] = mask\n",
    "    #brain_mask = np.hstack((np.zeros(19), brain_mask))\n",
    "\n",
    "    #self.fig[idx].set_brain(cifti_extension='dlabel', cifti_template='glasser', mayavi=False, dpi=300)\n",
    "    #self.fig[idx].brain.plot(data=brain_mask, cmap=cmap, scene='left', vrange=vrange)\n",
    "    # print(fig.fig[0].brain.vrange)\n",
    "    #self.fig[idx].brain_cbar(cbar_loc='bottom', append=True, cbar_title=clabel)\n",
    "    #brain_plot = Brain(ax, surface='inflated', parc='cole')\n",
    "    fig[idx].set_brain(surface='veryinflated', parc='cole', mayavi=True, dpi=300)\n",
    "    fig[idx].brain.plot(brain_mask, cmap=cmap, style='left',\n",
    "                        hemi_label=hemil, borders=border, title=title, vrange=vrange)\n",
    "    fig[idx].brain_cbar(cbar_loc='bottom', append=True, cbar_title=None)\n",
    "    if clabel is not None:\n",
    "        fig[idx].cb.set_label(clabel, size=6, labelpad=labelpad)\n",
    "\n",
    "    fig[idx].cb.ax.set_xticklabels([prec.format(vrange[0]), prec.format(vrange[1])], fontsize=6)"
   ]
  },
  {
   "cell_type": "code",
   "execution_count": 8,
   "metadata": {},
   "outputs": [
    {
     "name": "stderr",
     "output_type": "stream",
     "text": [
      "pixdim[1,2,3] should be non-zero; setting 0 dims to 1\n"
     ]
    },
    {
     "ename": "AttributeError",
     "evalue": "'Cifti' object has no attribute 'extensions'",
     "output_type": "error",
     "traceback": [
      "\u001b[0;31m---------------------------------------------------------------------------\u001b[0m",
      "\u001b[0;31mAttributeError\u001b[0m                            Traceback (most recent call last)",
      "\u001b[0;32m<ipython-input-8-d4eabe104650>\u001b[0m in \u001b[0;36m<module>\u001b[0;34m\u001b[0m\n\u001b[1;32m     13\u001b[0m \u001b[0mindices\u001b[0m \u001b[0;34m=\u001b[0m \u001b[0mnp\u001b[0m\u001b[0;34m.\u001b[0m\u001b[0marange\u001b[0m\u001b[0;34m(\u001b[0m\u001b[0;36m180\u001b[0m\u001b[0;34m)\u001b[0m\u001b[0;34m\u001b[0m\u001b[0;34m\u001b[0m\u001b[0m\n\u001b[1;32m     14\u001b[0m \u001b[0mvrange\u001b[0m \u001b[0;34m=\u001b[0m \u001b[0;34m[\u001b[0m\u001b[0mmask\u001b[0m\u001b[0;34m.\u001b[0m\u001b[0mmean\u001b[0m\u001b[0;34m(\u001b[0m\u001b[0;34m)\u001b[0m \u001b[0;34m-\u001b[0m \u001b[0;36m2.\u001b[0m \u001b[0;34m*\u001b[0m \u001b[0mmask\u001b[0m\u001b[0;34m.\u001b[0m\u001b[0mstd\u001b[0m\u001b[0;34m(\u001b[0m\u001b[0;34m)\u001b[0m\u001b[0;34m,\u001b[0m \u001b[0mmask\u001b[0m\u001b[0;34m.\u001b[0m\u001b[0mmean\u001b[0m\u001b[0;34m(\u001b[0m\u001b[0;34m)\u001b[0m \u001b[0;34m+\u001b[0m \u001b[0;36m2.\u001b[0m \u001b[0;34m*\u001b[0m \u001b[0mmask\u001b[0m\u001b[0;34m.\u001b[0m\u001b[0mstd\u001b[0m\u001b[0;34m(\u001b[0m\u001b[0;34m)\u001b[0m\u001b[0;34m]\u001b[0m\u001b[0;34m\u001b[0m\u001b[0;34m\u001b[0m\u001b[0m\n\u001b[0;32m---> 15\u001b[0;31m \u001b[0mplot_brain\u001b[0m\u001b[0;34m(\u001b[0m\u001b[0;36m0\u001b[0m\u001b[0;34m,\u001b[0m \u001b[0mmask\u001b[0m\u001b[0;34m,\u001b[0m \u001b[0;34m'RdBu_r'\u001b[0m\u001b[0;34m,\u001b[0m \u001b[0mindices\u001b[0m\u001b[0;34m,\u001b[0m \u001b[0mtitle\u001b[0m\u001b[0;34m=\u001b[0m\u001b[0;34m'Ignition'\u001b[0m\u001b[0;34m,\u001b[0m \u001b[0mcbar_range\u001b[0m\u001b[0;34m=\u001b[0m\u001b[0;32mNone\u001b[0m\u001b[0;34m,\u001b[0m \u001b[0mvrange\u001b[0m\u001b[0;34m=\u001b[0m\u001b[0mvrange\u001b[0m\u001b[0;34m)\u001b[0m\u001b[0;34m\u001b[0m\u001b[0;34m\u001b[0m\u001b[0m\n\u001b[0m",
      "\u001b[0;32m<ipython-input-4-f6b25aa0079d>\u001b[0m in \u001b[0;36mplot_brain\u001b[0;34m(idx, mask, cmap, indices, clabel, vrange, border, labelpad, hemil, title, prec, cbar_range)\u001b[0m\n\u001b[1;32m     21\u001b[0m     \u001b[0;31m#self.fig[idx].brain_cbar(cbar_loc='bottom', append=True, cbar_title=clabel)\u001b[0m\u001b[0;34m\u001b[0m\u001b[0;34m\u001b[0m\u001b[0;34m\u001b[0m\u001b[0m\n\u001b[1;32m     22\u001b[0m     \u001b[0;31m#brain_plot = Brain(ax, surface='inflated', parc='cole')\u001b[0m\u001b[0;34m\u001b[0m\u001b[0;34m\u001b[0m\u001b[0;34m\u001b[0m\u001b[0m\n\u001b[0;32m---> 23\u001b[0;31m     \u001b[0mfig\u001b[0m\u001b[0;34m[\u001b[0m\u001b[0midx\u001b[0m\u001b[0;34m]\u001b[0m\u001b[0;34m.\u001b[0m\u001b[0mset_brain\u001b[0m\u001b[0;34m(\u001b[0m\u001b[0msurface\u001b[0m\u001b[0;34m=\u001b[0m\u001b[0;34m'veryinflated'\u001b[0m\u001b[0;34m,\u001b[0m \u001b[0mparc\u001b[0m\u001b[0;34m=\u001b[0m\u001b[0;34m'cole'\u001b[0m\u001b[0;34m,\u001b[0m \u001b[0mmayavi\u001b[0m\u001b[0;34m=\u001b[0m\u001b[0;32mTrue\u001b[0m\u001b[0;34m,\u001b[0m \u001b[0mdpi\u001b[0m\u001b[0;34m=\u001b[0m\u001b[0;36m300\u001b[0m\u001b[0;34m)\u001b[0m\u001b[0;34m\u001b[0m\u001b[0;34m\u001b[0m\u001b[0m\n\u001b[0m\u001b[1;32m     24\u001b[0m     fig[idx].brain.plot(brain_mask, cmap=cmap, style='left',\n\u001b[1;32m     25\u001b[0m                         hemi_label=hemil, borders=border, title=title, vrange=vrange)\n",
      "\u001b[0;32m~/Dropbox/Projects/pylib/visualization/nice_plot.py\u001b[0m in \u001b[0;36mset_brain\u001b[0;34m(self, surface, parc, subcortex, mayavi, cifti_extension, cifti_template, scene_template, dpi)\u001b[0m\n\u001b[1;32m    547\u001b[0m         \u001b[0;32mif\u001b[0m \u001b[0mmayavi\u001b[0m\u001b[0;34m:\u001b[0m\u001b[0;34m\u001b[0m\u001b[0;34m\u001b[0m\u001b[0m\n\u001b[1;32m    548\u001b[0m             \u001b[0;32mfrom\u001b[0m \u001b[0;34m.\u001b[0m\u001b[0mbrain\u001b[0m \u001b[0;32mimport\u001b[0m \u001b[0mBrain\u001b[0m\u001b[0;34m\u001b[0m\u001b[0;34m\u001b[0m\u001b[0m\n\u001b[0;32m--> 549\u001b[0;31m             \u001b[0mself\u001b[0m\u001b[0;34m.\u001b[0m\u001b[0mbrain\u001b[0m \u001b[0;34m=\u001b[0m \u001b[0mBrain\u001b[0m\u001b[0;34m(\u001b[0m\u001b[0mself\u001b[0m\u001b[0;34m.\u001b[0m\u001b[0max\u001b[0m\u001b[0;34m,\u001b[0m \u001b[0msurface\u001b[0m\u001b[0;34m=\u001b[0m\u001b[0msurface\u001b[0m\u001b[0;34m,\u001b[0m \u001b[0mparc\u001b[0m\u001b[0;34m=\u001b[0m\u001b[0mparc\u001b[0m\u001b[0;34m,\u001b[0m \u001b[0msubcortex\u001b[0m\u001b[0;34m=\u001b[0m\u001b[0msubcortex\u001b[0m\u001b[0;34m)\u001b[0m\u001b[0;34m\u001b[0m\u001b[0;34m\u001b[0m\u001b[0m\n\u001b[0m\u001b[1;32m    550\u001b[0m         \u001b[0;32melse\u001b[0m\u001b[0;34m:\u001b[0m\u001b[0;34m\u001b[0m\u001b[0;34m\u001b[0m\u001b[0m\n\u001b[1;32m    551\u001b[0m             \u001b[0;32mfrom\u001b[0m \u001b[0;34m.\u001b[0m\u001b[0mbrain_wb\u001b[0m \u001b[0;32mimport\u001b[0m \u001b[0mBrain\u001b[0m\u001b[0;34m\u001b[0m\u001b[0;34m\u001b[0m\u001b[0m\n",
      "\u001b[0;32m~/Dropbox/Projects/pylib/visualization/brain.py\u001b[0m in \u001b[0;36m__init__\u001b[0;34m(self, ax, surface, parc, subcortex)\u001b[0m\n\u001b[1;32m     39\u001b[0m \u001b[0;34m\u001b[0m\u001b[0m\n\u001b[1;32m     40\u001b[0m             \u001b[0mglass\u001b[0m \u001b[0;34m=\u001b[0m \u001b[0mCifti\u001b[0m\u001b[0;34m(\u001b[0m\u001b[0mparc_file\u001b[0m\u001b[0;34m)\u001b[0m\u001b[0;34m\u001b[0m\u001b[0;34m\u001b[0m\u001b[0m\n\u001b[0;32m---> 41\u001b[0;31m             \u001b[0mlabel_info\u001b[0m \u001b[0;34m=\u001b[0m \u001b[0mglass\u001b[0m\u001b[0;34m.\u001b[0m\u001b[0mget_labels\u001b[0m\u001b[0;34m(\u001b[0m\u001b[0;34m)\u001b[0m\u001b[0;34m\u001b[0m\u001b[0;34m\u001b[0m\u001b[0m\n\u001b[0m\u001b[1;32m     42\u001b[0m \u001b[0;34m\u001b[0m\u001b[0m\n\u001b[1;32m     43\u001b[0m             \u001b[0mself\u001b[0m\u001b[0;34m.\u001b[0m\u001b[0mscalars\u001b[0m \u001b[0;34m=\u001b[0m \u001b[0;34m{\u001b[0m\u001b[0;34m}\u001b[0m\u001b[0;34m\u001b[0m\u001b[0;34m\u001b[0m\u001b[0m\n",
      "\u001b[0;32m~/Dropbox/Projects/pylib/analysis/cifti.py\u001b[0m in \u001b[0;36mget_labels\u001b[0;34m(self, left, right)\u001b[0m\n\u001b[1;32m    112\u001b[0m         \u001b[0mdlabels\u001b[0m \u001b[0;34m=\u001b[0m \u001b[0mnp\u001b[0m\u001b[0;34m.\u001b[0m\u001b[0msqueeze\u001b[0m\u001b[0;34m(\u001b[0m\u001b[0mself\u001b[0m\u001b[0;34m.\u001b[0m\u001b[0mdata\u001b[0m\u001b[0;34m)\u001b[0m\u001b[0;34m\u001b[0m\u001b[0;34m\u001b[0m\u001b[0m\n\u001b[1;32m    113\u001b[0m         \u001b[0mlabel_info\u001b[0m \u001b[0;34m=\u001b[0m \u001b[0;34m{\u001b[0m\u001b[0;34m}\u001b[0m\u001b[0;34m\u001b[0m\u001b[0;34m\u001b[0m\u001b[0m\n\u001b[0;32m--> 114\u001b[0;31m         \u001b[0;32mif\u001b[0m \u001b[0mlen\u001b[0m\u001b[0;34m(\u001b[0m\u001b[0mself\u001b[0m\u001b[0;34m.\u001b[0m\u001b[0mextensions\u001b[0m\u001b[0;34m[\u001b[0m\u001b[0;36m0\u001b[0m\u001b[0;34m]\u001b[0m\u001b[0;34m[\u001b[0m\u001b[0;36m2\u001b[0m\u001b[0;34m]\u001b[0m\u001b[0;34m)\u001b[0m \u001b[0;34m<\u001b[0m \u001b[0;36m3\u001b[0m\u001b[0;34m:\u001b[0m\u001b[0;34m\u001b[0m\u001b[0;34m\u001b[0m\u001b[0m\n\u001b[0m\u001b[1;32m    115\u001b[0m             \u001b[0ml_model\u001b[0m \u001b[0;34m=\u001b[0m \u001b[0;36m0\u001b[0m\u001b[0;34m\u001b[0m\u001b[0;34m\u001b[0m\u001b[0m\n\u001b[1;32m    116\u001b[0m             \u001b[0mr_model\u001b[0m \u001b[0;34m=\u001b[0m \u001b[0;36m1\u001b[0m\u001b[0;34m\u001b[0m\u001b[0;34m\u001b[0m\u001b[0m\n",
      "\u001b[0;31mAttributeError\u001b[0m: 'Cifti' object has no attribute 'extensions'"
     ]
    },
    {
     "data": {
      "image/png": "[encoded data removed]",
      "text/plain": [
       "<Figure size 700x400 with 1 Axes>"
      ]
     },
     "metadata": {},
     "output_type": "display_data"
    }
   ],
   "source": [
    "params = {'legend.fontsize': 6.0, 'font.size': 6.0, 'axes.labelsize': 6.0,\n",
    "          'axes.titlesize': 6.0, 'xtick.labelsize': 6.0, 'ytick.labelsize': 6.0}\n",
    "\n",
    "fig = Figure(size=(7.0, 4.0), params=params, latex=False)\n",
    "fig.add_plot([0.05, 0.1, 0.4, 0.8])\n",
    "\n",
    "#data = io.Data(input_path='/Users/murat/Dropbox/My\\Mac\\(Murat\\’s\\MacBook\\Air)/Documents/datatools/data/hcp/neuron_2019')\n",
    "#fin = data.load('hcp_334_cortex_average_structural.hdf5')\n",
    "#indices = fin['indices_L'][()]\n",
    "#fin.close()\n",
    "\n",
    "mask = np.arange(180)\n",
    "indices = np.arange(180)\n",
    "vrange = [mask.mean() - 2. * mask.std(), mask.mean() + 2. * mask.std()]\n",
    "plot_brain(0, mask, 'RdBu_r', indices, title='Ignition', cbar_range=None, vrange=vrange)"
   ]
  },
  {
   "cell_type": "code",
   "execution_count": null,
   "metadata": {},
   "outputs": [],
   "source": []
  }
 ],
 "metadata": {
  "kernelspec": {
   "display_name": "Python 3",
   "language": "python",
   "name": "python3"
  },
  "language_info": {
   "codemirror_mode": {
    "name": "ipython",
    "version": 3
   },
   "file_extension": ".py",
   "mimetype": "text/x-python",
   "name": "python",
   "nbconvert_exporter": "python",
   "pygments_lexer": "ipython3",
   "version": "3.7.7"
  }
 },
 "nbformat": 4,
 "nbformat_minor": 4
}
